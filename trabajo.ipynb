{
 "cells": [
  {
   "cell_type": "code",
   "execution_count": 45,
   "metadata": {},
   "outputs": [],
   "source": [
    "from analisis import clean_db\n",
    "import os,csv,json\n",
    "import pandas as pd\n",
    "if not os.path.isfile(\"./data/dataset.json\"):\n",
    "    import extract\n",
    "    extract.extract_sga_classes()\n",
    "    extract.turn_sga_into_csv()\n",
    "\n",
    "with open(\"./data/dataset.csv\",\"r\",encoding=\"utf-8\") as f:\n",
    "        reader = csv.DictReader(f)\n",
    "        data = list(reader)\n",
    "\n",
    "db = clean_db(pd.DataFrame(data))\n",
    "\n",
    "\n",
    "\n",
    "\n"
   ]
  },
  {
   "cell_type": "code",
   "execution_count": 43,
   "metadata": {},
   "outputs": [
    {
     "name": "stdout",
     "output_type": "stream",
     "text": [
      "       Año   Cuatrimestre                                            Materia  \\\n",
      "0     2023   Primer Cuat.                   23.05 - Acústica para Ingenieros   \n",
      "1     2023   Primer Cuat.         94.27 - Administración de Recursos Humanos   \n",
      "2     2023   Primer Cuat.         94.27 - Administración de Recursos Humanos   \n",
      "3     2023   Primer Cuat.         94.27 - Administración de Recursos Humanos   \n",
      "4     2023   Primer Cuat.  15.09 - Agile, Lean y Lean Six Sigma (Seminari...   \n",
      "...    ...            ...                                                ...   \n",
      "1190  2023  Segundo Cuat.                 31.85 - Transmisiones Automotrices   \n",
      "1191  2023  Segundo Cuat.                 71.80 - Utilitarios en Informática   \n",
      "1192  2023  Segundo Cuat.  14.89 - Ventas (Seminario - 07/08/2023 - 11/09...   \n",
      "1193  2023  Segundo Cuat.               72.74 - Visualización de Información   \n",
      "1194  2023         Verano  94.55 - Español intensivo para extranjeros B1 ...   \n",
      "\n",
      "                      Departamento Comision  \\\n",
      "0       Sistemas Digitales y Datos        K   \n",
      "1              Economía y Negocios        A   \n",
      "2              Economía y Negocios        B   \n",
      "3              Economía y Negocios        C   \n",
      "4     Sistemas Complejos y Energía        A   \n",
      "...                            ...      ...   \n",
      "1190          Ambiente y Movilidad        A   \n",
      "1191  Ciencias Exactas y Naturales        L   \n",
      "1192  Sistemas Complejos y Energía        A   \n",
      "1193    Sistemas Digitales y Datos        S   \n",
      "1194           Economía y Negocios        A   \n",
      "\n",
      "                                                Horario  \\\n",
      "0     [(Miércoles, 10:00, 13:00,  externa: Presencial)]   \n",
      "1     [(Miércoles, 15:30, 18:30,  externa: Presencial)]   \n",
      "2        [(Jueves, 16:00, 18:00,  externa: Presencial)]   \n",
      "3        [(Jueves, 16:00, 18:00,  externa: Presencial)]   \n",
      "4            [(Lunes, 09:00, 12:00,  externa: Virtual)]   \n",
      "...                                                 ...   \n",
      "1190  [(Jueves, 15:00, 18:00,  ITBA: 002T #----> SDT...   \n",
      "1191  [(Lunes, 08:00, 11:00,  ITBA: 201T #----> SDT ...   \n",
      "1192  [(Lunes, 18:00, 21:00,  externa: Virtual sincr...   \n",
      "1193  [(Lunes, 10:00, 13:00,  ITBA: 603F #----> Sede...   \n",
      "1194  [(Lunes, 13:30, 16:30,  ITBA: 602F #----> Sede...   \n",
      "\n",
      "                                             Profesores  Inscriptos  \\\n",
      "0                                                    []           3   \n",
      "1     [González Gaínza Florencia, Pedró Cecilia Angé...          18   \n",
      "2     [González Gaínza Florencia, Pedró Cecilia Angé...          23   \n",
      "3     [González Gaínza Florencia, Pedró Cecilia Angé...          13   \n",
      "4                                                    []          16   \n",
      "...                                                 ...         ...   \n",
      "1190                                                 []           7   \n",
      "1191                          [Buquete Maria Alejandra]          33   \n",
      "1192                                                 []          12   \n",
      "1193                                                 []          22   \n",
      "1194                                                 []          15   \n",
      "\n",
      "     Disponibles  Creditos  \n",
      "0              9         3  \n",
      "1             42         3  \n",
      "2             24         2  \n",
      "3             18         2  \n",
      "4             15         3  \n",
      "...          ...       ...  \n",
      "1190          24         3  \n",
      "1191          48         6  \n",
      "1192          15         3  \n",
      "1193          24         3  \n",
      "1194   Ilimitado        14  \n",
      "\n",
      "[1195 rows x 10 columns]\n"
     ]
    }
   ],
   "source": [
    "print(db)"
   ]
  },
  {
   "cell_type": "code",
   "execution_count": 42,
   "metadata": {},
   "outputs": [
    {
     "name": "stdout",
     "output_type": "stream",
     "text": [
      "Index(['Año', 'Cuatrimestre', 'Materia', 'Departamento', 'Comision', 'Horario',\n",
      "       'Profesores', 'Inscriptos', 'Disponibles', 'Creditos'],\n",
      "      dtype='object')\n"
     ]
    }
   ],
   "source": [
    "print(db.columns)"
   ]
  }
 ],
 "metadata": {
  "kernelspec": {
   "display_name": "Python 3",
   "language": "python",
   "name": "python3"
  },
  "language_info": {
   "codemirror_mode": {
    "name": "ipython",
    "version": 3
   },
   "file_extension": ".py",
   "mimetype": "text/x-python",
   "name": "python",
   "nbconvert_exporter": "python",
   "pygments_lexer": "ipython3",
   "version": "3.11.0"
  },
  "orig_nbformat": 4
 },
 "nbformat": 4,
 "nbformat_minor": 2
}
