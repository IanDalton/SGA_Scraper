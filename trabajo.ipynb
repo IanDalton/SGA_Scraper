{
 "cells": [
  {
   "cell_type": "code",
   "execution_count": 1,
   "metadata": {},
   "outputs": [],
   "source": [
    "from analisis import clean_db\n",
    "from predictive_db import clean_carreras,get_planes_from_curso, get_inscriptos_from_previous_years,get_capacidad_from_previous_years\n",
    "import os,csv,json,extract\n",
    "import pandas as pd\n",
    "from pandasql import sqldf\n"
   ]
  },
  {
   "cell_type": "code",
   "execution_count": 2,
   "metadata": {},
   "outputs": [],
   "source": [
    "with open(\"./data/carreras.csv\",\"r\",encoding=\"utf-8\") as f:\n",
    "    reader = csv.DictReader(f)\n",
    "    carreras = list(reader)\n",
    "carreras = pd.DataFrame(carreras)\n",
    "clean_carreras(carreras)\n"
   ]
  },
  {
   "cell_type": "code",
   "execution_count": 3,
   "metadata": {},
   "outputs": [],
   "source": [
    "with open(\"./data/cursos.csv\",\"r\",encoding=\"utf-8\") as f:\n",
    "    reader = csv.DictReader(f)\n",
    "    cursos = list(reader)\n",
    "cursos = pd.DataFrame(cursos)"
   ]
  },
  {
   "cell_type": "code",
   "execution_count": 4,
   "metadata": {},
   "outputs": [
    {
     "name": "stdout",
     "output_type": "stream",
     "text": [
      "13453\n",
      "0\n",
      "1000\n",
      "2000\n",
      "3000\n",
      "4000\n",
      "5000\n",
      "6000\n",
      "7000\n",
      "8000\n",
      "9000\n",
      "10000\n",
      "11000\n",
      "12000\n",
      "13000\n"
     ]
    }
   ],
   "source": [
    "get_planes_from_curso(cursos,carreras)"
   ]
  },
  {
   "cell_type": "code",
   "execution_count": 8,
   "metadata": {},
   "outputs": [],
   "source": [
    "get_inscriptos_from_previous_years(cursos)"
   ]
  },
  {
   "cell_type": "code",
   "execution_count": 10,
   "metadata": {},
   "outputs": [],
   "source": [
    "\n",
    "get_capacidad_from_previous_years(cursos)"
   ]
  },
  {
   "cell_type": "code",
   "execution_count": 11,
   "metadata": {},
   "outputs": [],
   "source": [
    "#exporting cursos into a csv\n",
    "cursos.to_csv(\"./data/dataset_completo.csv\",index=False,encoding=\"utf-8\")"
   ]
  }
 ],
 "metadata": {
  "kernelspec": {
   "display_name": "Python 3",
   "language": "python",
   "name": "python3"
  },
  "language_info": {
   "codemirror_mode": {
    "name": "ipython",
    "version": 3
   },
   "file_extension": ".py",
   "mimetype": "text/x-python",
   "name": "python",
   "nbconvert_exporter": "python",
   "pygments_lexer": "ipython3",
   "version": "3.11.0"
  },
  "orig_nbformat": 4
 },
 "nbformat": 4,
 "nbformat_minor": 2
}
